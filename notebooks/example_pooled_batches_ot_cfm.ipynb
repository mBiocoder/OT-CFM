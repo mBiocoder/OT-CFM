{
 "cells": [
  {
   "cell_type": "code",
   "execution_count": null,
   "id": "d14868ce",
   "metadata": {},
   "outputs": [],
   "source": [
    "import torch\n",
    "import scanpy as sc\n",
    "import numpy as np\n",
    "from tqdm import tqdm\n",
    "\n",
    "from ot_cfm_package import (\n",
    "    load_adata, create_ot_cfm_model, create_ot_cfm_optimizer, \n",
    "    create_training_dataloader, ExactOptimalTransportConditionalFlowMatcher, \n",
    "    correct_sources\n",
    ")"
   ]
  },
  {
   "cell_type": "code",
   "execution_count": null,
   "id": "3f60a61c",
   "metadata": {},
   "outputs": [],
   "source": [
    "# Load dataset\n",
    "target2_moa = load_adata(\"../../data/Tim_target2_wellres_featuresimputed_druginfoadded_pycytominer.h5ad\")"
   ]
  },
  {
   "cell_type": "code",
   "execution_count": null,
   "id": "c34deaa6",
   "metadata": {},
   "outputs": [],
   "source": [
    "# Init device and model\n",
    "device = torch.device(\"cuda\" if torch.cuda.is_available() else \"cpu\")\n",
    "ot_cfm_model = create_ot_cfm_model(adata=target2_moa, use_pca=True).to(device)\n",
    "ot_cfm_optimizer = create_ot_cfm_optimizer(ot_cfm_model)\n",
    "FM = ExactOptimalTransportConditionalFlowMatcher(sigma=0.1)"
   ]
  },
  {
   "cell_type": "code",
   "execution_count": null,
   "id": "933e2421",
   "metadata": {},
   "outputs": [],
   "source": [
    "# Hyperparameters\n",
    "epochs = 50  \n",
    "batch_size = 64\n",
    "\n",
    "dataloader = create_training_dataloader(target2_moa, batch_size=batch_size, exclude_source=\"source_2\", use_pca=True)"
   ]
  },
  {
   "cell_type": "code",
   "execution_count": null,
   "id": "2304e412",
   "metadata": {},
   "outputs": [],
   "source": [
    "# Training loop\n",
    "for epoch in range(epochs):\n",
    "    for source_batch, target_batch, source_one_hot in dataloader:\n",
    "        # Move batches to the device (GPU or CPU)\n",
    "        source_batch = source_batch.to(device)\n",
    "        target_batch = target_batch.to(device)\n",
    "        source_one_hot = source_one_hot.to(device)\n",
    "\n",
    "        # Forward pass\n",
    "        outputs = ot_cfm_model(source_batch, source_one_hot)\n",
    "        loss = FM.compute_loss(outputs, target_batch)\n",
    "\n",
    "        # Backpropagation\n",
    "        ot_cfm_optimizer.zero_grad()\n",
    "        loss.backward()\n",
    "        ot_cfm_optimizer.step()\n",
    "\n",
    "    print(f\"Epoch {epoch + 1}/{epochs}, Loss: {loss.item()}\")"
   ]
  },
  {
   "cell_type": "code",
   "execution_count": null,
   "id": "4192b766",
   "metadata": {},
   "outputs": [],
   "source": [
    "# Correction: Correct all sources except source_2 using the trained OT-CFM model\n",
    "corrected_sources = correct_sources(target2_moa, ot_cfm_model, exclude_source=\"source_2\", device=device)\n",
    "\n",
    "# Combine corrected sources with source_2 data\n",
    "all_corrected_adata = sc.concat(corrected_sources, axis=0)\n",
    "source_2_data = target2_moa[target2_moa.obs[\"Metadata_Source\"] == \"source_2\"].copy()\n",
    "all_corrected_adata = sc.concat([all_corrected_adata, source_2_data], join=\"outer\")"
   ]
  },
  {
   "cell_type": "code",
   "execution_count": null,
   "id": "80a47bcf",
   "metadata": {},
   "outputs": [],
   "source": [
    "# Plot UMAP visualization\n",
    "sc.pl.umap(all_corrected_adata, color=\"Metadata_Source\")"
   ]
  }
 ],
 "metadata": {
  "kernelspec": {
   "display_name": "Python 3 (ipykernel)",
   "language": "python",
   "name": "python3"
  },
  "language_info": {
   "codemirror_mode": {
    "name": "ipython",
    "version": 3
   },
   "file_extension": ".py",
   "mimetype": "text/x-python",
   "name": "python",
   "nbconvert_exporter": "python",
   "pygments_lexer": "ipython3",
   "version": "3.10.6"
  }
 },
 "nbformat": 4,
 "nbformat_minor": 5
}
