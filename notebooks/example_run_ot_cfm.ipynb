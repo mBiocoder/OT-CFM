{
 "cells": [
  {
   "cell_type": "markdown",
   "id": "0e43fc61",
   "metadata": {},
   "source": [
    "# Example run: Transport iteratively all sources from target2_moa into source 2 and visualize result with use_pca = True for 50 epochs\n",
    "\n",
    "\n",
    "(Still need to run to check if it is fine -> LRZ disk space too full atm)"
   ]
  },
  {
   "cell_type": "code",
   "execution_count": null,
   "id": "5e7ac4c5",
   "metadata": {},
   "outputs": [],
   "source": [
    "import torch\n",
    "import scanpy as sc\n",
    "import numpy as np\n",
    "import random\n",
    "\n",
    "from ot_cfm.data_utils import load_adata\n",
    "from ot_cfm.model import create_ot_cfm_model, create_ot_cfm_optimizer\n",
    "from ot_cfm.training import train_cfm, save_ot_cfm_model, load_ot_cfm_model\n",
    "from ot_cfm.transport import transport, create_training_dataloader, create_dataloader"
   ]
  },
  {
   "cell_type": "code",
   "execution_count": null,
   "id": "247f1371",
   "metadata": {},
   "outputs": [],
   "source": [
    "# Set up device\n",
    "use_cuda = torch.cuda.is_available()\n",
    "device = torch.device(\"cuda\" if use_cuda else \"cpu\")"
   ]
  },
  {
   "cell_type": "code",
   "execution_count": null,
   "id": "78c0e27f",
   "metadata": {},
   "outputs": [],
   "source": [
    "# Load target2_moa dataset\n",
    "target2_moa = load_adata(\"../../data/Tim_target2_wellres_featuresimputed_druginfoadded_pycytominer.h5ad\")"
   ]
  },
  {
   "cell_type": "code",
   "execution_count": null,
   "id": "95cda7d5",
   "metadata": {},
   "outputs": [],
   "source": [
    "# Initialize OT-CFM components\n",
    "ot_cfm_model = create_ot_cfm_model(adata=target2_moa, use_pca=True)\n",
    "ot_cfm_optimizer = create_ot_cfm_optimizer(ot_cfm_model)"
   ]
  },
  {
   "cell_type": "code",
   "execution_count": null,
   "id": "de2fa5b0",
   "metadata": {},
   "outputs": [],
   "source": [
    "# Train and transport iteratively\n",
    "from ot_cfm.model import ExactOptimalTransportConditionalFlowMatcher\n",
    "FM = ExactOptimalTransportConditionalFlowMatcher(sigma=0.1)\n",
    "translated_sources = []"
   ]
  },
  {
   "cell_type": "code",
   "execution_count": null,
   "id": "c81f3593",
   "metadata": {},
   "outputs": [],
   "source": [
    "# Train and save OT-CFM models for each source\n",
    "for source in target2_moa.obs[\"Metadata_Source\"].unique():\n",
    "    if source == \"source_2\":\n",
    "        continue\n",
    "\n",
    "    source_data = target2_moa[target2_moa.obs[\"Metadata_Source\"] == source].copy()\n",
    "    dataloader = create_training_dataloader(target2_moa, source, \"source_2\", batch_size=64, use_pca=True)\n",
    "    trained_ot_cfm_model = train_cfm(ot_cfm_model, ot_cfm_optimizer, FM, dataloader, epochs=200, plot_loss=True)\n",
    "    save_ot_cfm_model(ot_cfm_model, ot_cfm_optimizer, f\"./saved_models/ot_cfm_{source}_to_source_2.pt\")"
   ]
  },
  {
   "cell_type": "code",
   "execution_count": null,
   "id": "72d566a1",
   "metadata": {},
   "outputs": [],
   "source": [
    "# Load and perform transport\n",
    "for source in target2_moa.obs[\"Metadata_Source\"].unique():\n",
    "    if source == \"source_2\":\n",
    "        continue\n",
    "\n",
    "    dataloader = create_dataloader(target2_moa, source, batch_size=64, use_pca=True)\n",
    "    load_ot_cfm_model(ot_cfm_model, ot_cfm_optimizer, f\"./saved_models/ot_cfm_{source}_to_source_2.pt\")\n",
    "    translated_source_adata = transport(dataloader, ot_cfm_model, x1_label=source, device=device)\n",
    "    translated_sources.append(translated_source_adata)\n",
    "    sc.pl.pca(translated_source_adata, color=\"Metadata_Source\")"
   ]
  },
  {
   "cell_type": "code",
   "execution_count": null,
   "id": "fca07f4e",
   "metadata": {},
   "outputs": [],
   "source": [
    "# Combine all translated sources with source_2\n",
    "all_sources_adata = sc.concat(translated_sources, axis=0)\n",
    "source_2_data = target2_moa[target2_moa.obs[\"Metadata_Source\"] == \"source_2\"].copy()\n",
    "all_sources_adata = sc.concat([all_sources_adata, source_2_data], join=\"outer\")"
   ]
  },
  {
   "cell_type": "code",
   "execution_count": null,
   "id": "7f878266",
   "metadata": {},
   "outputs": [],
   "source": [
    "# Plot combined PCA and save\n",
    "sc.pl.pca(all_sources_adata, color=\"Metadata_Source\")\n",
    "all_sources_adata.write('./outputs/run_3_final_adata_target2_moa_reconstructed_all_sources_OT_CFM.h5ad')"
   ]
  }
 ],
 "metadata": {
  "kernelspec": {
   "display_name": "Python 3 (ipykernel)",
   "language": "python",
   "name": "python3"
  },
  "language_info": {
   "codemirror_mode": {
    "name": "ipython",
    "version": 3
   },
   "file_extension": ".py",
   "mimetype": "text/x-python",
   "name": "python",
   "nbconvert_exporter": "python",
   "pygments_lexer": "ipython3",
   "version": "3.10.6"
  }
 },
 "nbformat": 4,
 "nbformat_minor": 5
}
